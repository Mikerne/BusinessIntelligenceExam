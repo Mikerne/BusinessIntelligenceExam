{
 "cells": [
  {
   "cell_type": "code",
   "execution_count": 7,
   "id": "b6062e34-e374-4bdc-bbcc-c84de6a5e68e",
   "metadata": {
    "scrolled": true
   },
   "outputs": [
    {
     "name": "stdout",
     "output_type": "stream",
     "text": [
      "<class 'pandas.core.frame.DataFrame'>\n",
      "RangeIndex: 4240 entries, 0 to 4239\n",
      "Data columns (total 16 columns):\n",
      " #   Column           Non-Null Count  Dtype   \n",
      "---  ------           --------------  -----   \n",
      " 0   male             4240 non-null   category\n",
      " 1   age              4240 non-null   int64   \n",
      " 2   education        4240 non-null   category\n",
      " 3   currentSmoker    4240 non-null   category\n",
      " 4   cigsPerDay       4240 non-null   float64 \n",
      " 5   BPMeds           4240 non-null   category\n",
      " 6   prevalentStroke  4240 non-null   category\n",
      " 7   prevalentHyp     4240 non-null   category\n",
      " 8   diabetes         4240 non-null   category\n",
      " 9   totChol          4190 non-null   float64 \n",
      " 10  sysBP            4240 non-null   float64 \n",
      " 11  diaBP            4240 non-null   float64 \n",
      " 12  BMI              4221 non-null   float64 \n",
      " 13  heartRate        4239 non-null   float64 \n",
      " 14  glucose          4240 non-null   float64 \n",
      " 15  TenYearCHD       4240 non-null   category\n",
      "dtypes: category(8), float64(7), int64(1)\n",
      "memory usage: 299.3 KB\n",
      "None\n",
      "  male  age education currentSmoker  cigsPerDay BPMeds prevalentStroke  \\\n",
      "0    1   39       4.0             0         0.0    0.0               0   \n",
      "1    0   46       2.0             0         0.0    0.0               0   \n",
      "2    1   48       1.0             1        20.0    0.0               0   \n",
      "3    0   61       3.0             1        30.0    0.0               0   \n",
      "4    0   46       3.0             1        23.0    0.0               0   \n",
      "\n",
      "  prevalentHyp diabetes  totChol  sysBP  diaBP    BMI  heartRate  glucose  \\\n",
      "0            0        0    195.0  106.0   70.0  26.97       80.0     77.0   \n",
      "1            0        0    250.0  121.0   81.0  28.73       95.0     76.0   \n",
      "2            0        0    245.0  127.5   80.0  25.34       75.0     70.0   \n",
      "3            1        0    225.0  150.0   95.0  28.58       65.0    103.0   \n",
      "4            0        0    285.0  130.0   84.0  23.10       85.0     85.0   \n",
      "\n",
      "  TenYearCHD  \n",
      "0          0  \n",
      "1          0  \n",
      "2          0  \n",
      "3          1  \n",
      "4          0  \n"
     ]
    }
   ],
   "source": [
    "import pandas as pd\n",
    "import numpy as np\n",
    "\n",
    "# ----------------------------\n",
    "# 1. Load Data\n",
    "# ----------------------------\n",
    "df = pd.read_csv(\"../data/raw/heart_disease.csv\")\n",
    "\n",
    "# ----------------------------\n",
    "# 2. Select Relevant Columns\n",
    "# ----------------------------\n",
    "relevant_cols = [\n",
    "    'male', 'age', 'education', 'currentSmoker', 'cigsPerDay', \n",
    "    'BPMeds', 'prevalentStroke', 'prevalentHyp', 'diabetes', \n",
    "    'totChol', 'sysBP', 'diaBP', 'BMI', 'heartRate', 'glucose', 'TenYearCHD'\n",
    "]\n",
    "df = df[relevant_cols]\n",
    "\n",
    "# ----------------------------\n",
    "# 3. Clean Data\n",
    "# ----------------------------\n",
    "# Fill missing numerical values with median\n",
    "num_cols = df.select_dtypes(include=np.number).columns.tolist()\n",
    "for col in num_cols:\n",
    "    df[col] = df[col].fillna(df[col].median())\n",
    "\n",
    "# Fill missing categorical values with mode\n",
    "cat_cols = ['education', 'BPMeds']\n",
    "for col in cat_cols:\n",
    "    df[col] = df[col].fillna(df[col].mode()[0])\n",
    "\n",
    "# Ensure no missing values remain\n",
    "assert df.isna().sum().sum() == 0, \"Data still contains missing values!\"\n",
    "\n",
    "# ----------------------------\n",
    "# 4. Save Cleaned Dataset\n",
    "# ----------------------------\n",
    "df.to_csv(\"../data/processed/heart_disease_clean.csv\", index=False)\n",
    "print(\"Renset datasæt gemt som '../data/processed/heart_disease_clean.csv'\")\n"
   ]
  },
  {
   "cell_type": "code",
   "execution_count": null,
   "id": "d2722e1d-1a57-4768-99af-2127c0b97f00",
   "metadata": {},
   "outputs": [],
   "source": []
  }
 ],
 "metadata": {
  "kernelspec": {
   "display_name": "Python [conda env:anaconda3]",
   "language": "python",
   "name": "conda-env-anaconda3-py"
  },
  "language_info": {
   "codemirror_mode": {
    "name": "ipython",
    "version": 3
   },
   "file_extension": ".py",
   "mimetype": "text/x-python",
   "name": "python",
   "nbconvert_exporter": "python",
   "pygments_lexer": "ipython3",
   "version": "3.13.5"
  }
 },
 "nbformat": 4,
 "nbformat_minor": 5
}
