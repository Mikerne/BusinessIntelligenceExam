{
 "cells": [
  {
   "cell_type": "markdown",
   "id": "6f48e1b0-147f-40b8-834a-9f4b05290206",
   "metadata": {},
   "source": [
    "# Data Exploration Report – Preventive Healthcare CHD Analysis\n",
    "\n",
    "This notebook explores the cleaned heart disease dataset, examining relationships between lifestyle factors, health history, and 10-year CHD risk.  \n",
    "\n",
    "Insights support the hypotheses:\n",
    "\n",
    "- **H1:** Demographics, lifestyle, and health data predict disease risk.  \n",
    "- **H2:** Visualizations help non-technical staff understand risk patterns.  \n",
    "- **H3:** Predictive models can support preventive measures and reduce costs.\n"
   ]
  },
  {
   "cell_type": "code",
   "execution_count": 3,
   "id": "18c521ce-8693-4747-9718-0fed48438137",
   "metadata": {},
   "outputs": [
    {
     "ename": "NameError",
     "evalue": "name 'sys' is not defined",
     "output_type": "error",
     "traceback": [
      "\u001b[0;31m---------------------------------------------------------------------------\u001b[0m",
      "\u001b[0;31mNameError\u001b[0m                                 Traceback (most recent call last)",
      "Cell \u001b[0;32mIn[3], line 4\u001b[0m\n\u001b[1;32m      2\u001b[0m \u001b[38;5;28;01mimport\u001b[39;00m\u001b[38;5;250m \u001b[39m\u001b[38;5;21;01mmatplotlib\u001b[39;00m\u001b[38;5;21;01m.\u001b[39;00m\u001b[38;5;21;01mpyplot\u001b[39;00m\u001b[38;5;250m \u001b[39m\u001b[38;5;28;01mas\u001b[39;00m\u001b[38;5;250m \u001b[39m\u001b[38;5;21;01mplt\u001b[39;00m\n\u001b[1;32m      3\u001b[0m \u001b[38;5;28;01mimport\u001b[39;00m\u001b[38;5;250m \u001b[39m\u001b[38;5;21;01mseaborn\u001b[39;00m\u001b[38;5;250m \u001b[39m\u001b[38;5;28;01mas\u001b[39;00m\u001b[38;5;250m \u001b[39m\u001b[38;5;21;01msns\u001b[39;00m\n\u001b[0;32m----> 4\u001b[0m sys\u001b[38;5;241m.\u001b[39mpath\u001b[38;5;241m.\u001b[39mappend(os\u001b[38;5;241m.\u001b[39mpath\u001b[38;5;241m.\u001b[39mabspath(\u001b[38;5;124m\"\u001b[39m\u001b[38;5;124m../src\u001b[39m\u001b[38;5;124m\"\u001b[39m))\n\u001b[1;32m      5\u001b[0m \u001b[38;5;28;01mfrom\u001b[39;00m\u001b[38;5;250m \u001b[39m\u001b[38;5;21;01mhelper_functions\u001b[39;00m\u001b[38;5;250m \u001b[39m\u001b[38;5;28;01mimport\u001b[39;00m (\n\u001b[1;32m      6\u001b[0m     show_boxplots, show_histograms, show_scatter_matrix,\n\u001b[1;32m      7\u001b[0m     show_correlation_heatmap, show_grouped_histograms, show_binned_data\n\u001b[1;32m      8\u001b[0m )\n\u001b[1;32m     10\u001b[0m \u001b[38;5;66;03m# Load Clean Data\u001b[39;00m\n",
      "\u001b[0;31mNameError\u001b[0m: name 'sys' is not defined"
     ]
    }
   ],
   "source": [
    "import pandas as pd\n",
    "import matplotlib.pyplot as plt\n",
    "import seaborn as sns\n",
    "import sys, os\n",
    "sys.path.append(os.path.abspath(\"../src\"))\n",
    "from helper_functions import (\n",
    "    show_boxplots, show_histograms, show_scatter_matrix,\n",
    "    show_correlation_heatmap, show_grouped_histograms, show_binned_data\n",
    ")\n",
    "\n",
    "# Load Clean Data\n",
    "df = pd.read_csv(\"../data/processed/heart_disease_clean_v2.csv\")\n",
    "\n",
    "# Define Column Groups\n",
    "continuous_cols = ['age', 'cigsPerDay', 'totChol', 'sysBP', 'diaBP', 'BMI', 'heartRate', 'glucose']\n",
    "binary_cols = ['male', 'currentSmoker', 'BPMeds', 'prevalentStroke', 'prevalentHyp', 'diabetes', 'TenYearCHD']\n"
   ]
  },
  {
   "cell_type": "code",
   "execution_count": null,
   "id": "02af43ab-b7db-40fd-b0af-3103c3217960",
   "metadata": {},
   "outputs": [],
   "source": []
  }
 ],
 "metadata": {
  "kernelspec": {
   "display_name": "Python [conda env:anaconda3]",
   "language": "python",
   "name": "conda-env-anaconda3-py"
  },
  "language_info": {
   "codemirror_mode": {
    "name": "ipython",
    "version": 3
   },
   "file_extension": ".py",
   "mimetype": "text/x-python",
   "name": "python",
   "nbconvert_exporter": "python",
   "pygments_lexer": "ipython3",
   "version": "3.13.5"
  }
 },
 "nbformat": 4,
 "nbformat_minor": 5
}
